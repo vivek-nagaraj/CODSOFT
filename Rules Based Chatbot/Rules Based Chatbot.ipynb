{
 "cells": [
  {
   "cell_type": "code",
   "execution_count": 1,
   "id": "abe32515",
   "metadata": {},
   "outputs": [],
   "source": [
    "import re\n",
    "\n",
    "class RuleBasedChatbot:\n",
    "\n",
    "    def __init__(self):\n",
    "        # Define rules with patterns and responses\n",
    "        self.rules = [\n",
    "            {\"pattern\": r\"hello|hi|hey\", \"response\": \"Hello! How can I assist you today?\"},\n",
    "            {\"pattern\": r\"how are you\", \"response\": \"I'm just a computer program, but I'm here to help!\"},\n",
    "            {\"pattern\": r\"what is your name\", \"response\": \"I'm your friendly Chatbot.\"},\n",
    "            {\"pattern\": r\"bye|goodbye\", \"response\": \"Goodbye! If you have more questions, feel free to ask.\"},\n",
    "            {\"pattern\": r\"thank you|thanks\", \"response\": \"You're welcome! If you need anything else, let me know.\"},\n",
    "            {\"pattern\": r\"weather\", \"response\": \"I'm sorry, I don't have real-time weather information. You can check a weather website.\"},\n",
    "            {\"pattern\": r\"time\", \"response\": \"I don't have the current time. Please check your device's clock.\"},\n",
    "            {\"pattern\": r\"tell me a joke\", \"response\": \"Why don't scientists trust atoms? Because they make up everything!\"},\n",
    "            {\"pattern\": r\"favorite color\", \"response\": \"I don't have a favorite color, but I think all colors are great!\"},\n",
    "            {\"pattern\": r\"how can I contact support\", \"response\": \"For support, please visit our website or contact our helpline.\"},\n",
    "            {\"pattern\": r\"movie recommendations\", \"response\": \"For movie recommendations, I suggest trying out popular streaming platforms.\"},\n",
    "            {\"pattern\": r\"latest technology news\", \"response\": \"To get the latest tech news, check reputable tech news websites or use news apps.\"},\n",
    "            {\"pattern\": r\"tell me about yourself\", \"response\": \"I'm a chatbot designed to assist and provide information. Feel free to ask me anything!\"},\n",
    "            {\"pattern\": r\"favorite book\", \"response\": \"I don't read books, but I can help you find recommendations based on your interests.\"},\n",
    "            {\"pattern\": r\"tell me a joke\", \"response\": \"Why don't scientists trust atoms? Because they make up everything!\"},\n",
    "            {\"pattern\": r\"favorite color\", \"response\": \"I don't have a favorite color, but I think all colors are great!\"},\n",
    "            {\"pattern\": r\"how can I contact support\", \"response\": \"For support, please visit our website or contact our helpline.\"},\n",
    "            {\"pattern\": r\"movie recommendations\", \"response\": \"For movie recommendations, I suggest trying out popular streaming platforms.\"},\n",
    "            {\"pattern\": r\"latest technology news\", \"response\": \"To get the latest tech news, check reputable tech news websites or use news apps.\"},\n",
    "            {\"pattern\": r\"tell me about yourself\", \"response\": \"I'm a chatbot designed to assist and provide information. Feel free to ask me anything!\"},\n",
    "            {\"pattern\": r\"favorite book\", \"response\": \"I don't read books, but I can help you find recommendations based on your interests.\"},\n",
    "            {\"pattern\": r\"how to [a-zA-Z]+\", \"response\": \"To learn how to {topic}, I recommend checking online tutorials or courses.\"},\n",
    "            {\"pattern\": r\"define [a-zA-Z]+\", \"response\": \"The definition of {term} is {definition}. If you need more details, feel free to ask.\"},\n",
    "            {\"pattern\": r\"news\", \"response\": \"For the latest news, visit reputable news websites or use news apps on your device.\"},\n",
    "            {\"pattern\": r\"health tips\", \"response\": \"For health tips, consult with a healthcare professional or check trusted health websites.\"},\n",
    "            {\"pattern\": r\"learn [a-zA-Z]+ programming\", \"response\": \"To learn {language} programming, consider online courses or coding bootcamps.\"},\n",
    "            {\"pattern\": r\"recipes for [a-zA-Z]+\", \"response\": \"For {cuisine} recipes, you can explore cooking websites or apps for delicious ideas.\"},\n",
    "            {\"pattern\": r\"latest [a-zA-Z]+ technology\", \"response\": \"Stay updated on {tech_area} by following tech blogs or subscribing to tech news.\"},\n",
    "            {\"pattern\": r\"travel destinations\", \"response\": \"Explore travel websites and blogs to discover exciting destinations for your next trip.\"},\n",
    "            {\"pattern\": r\"fun facts\", \"response\": \"Sure, here's a fun fact: {fun_fact}. If you want more, just let me know!\"},\n",
    "            {\"pattern\": r\"coding challenges\", \"response\": \"Challenge yourself with coding platforms like HackerRank or LeetCode for coding practice.\"},\n",
    "            {\"pattern\": r\"book recommendations\", \"response\": \"I can recommend books based on your preferences. What genre are you interested in?\"},\n",
    "            {\"pattern\": r\"exercise tips\", \"response\": \"For exercise tips, consider consulting a fitness trainer or checking reputable fitness websites.\"},# Add more rules based on common user queries\n",
    "        ]\n",
    "\n",
    "    def get_response(self, user_input):\n",
    "        # Check each rule's pattern against the user input using regular expressions\n",
    "        for rule in self.rules:\n",
    "            if re.search(rule[\"pattern\"], user_input, re.IGNORECASE):\n",
    "                return rule[\"response\"]\n",
    "        # Default response if no rule matches\n",
    "        return \"I'm sorry, I didn't quite catch that. Can you please rephrase?\"\n",
    "\n",
    "# Example usage\n",
    "chatbot = RuleBasedChatbot()\n"
   ]
  },
  {
   "cell_type": "code",
   "execution_count": null,
   "id": "dd444842",
   "metadata": {},
   "outputs": [
    {
     "name": "stdout",
     "output_type": "stream",
     "text": [
      "Chatbot: Hi there! I'm your friendly Chatbot. Feel free to ask me anything.\n",
      "You: hello\n",
      "Chatbot: Hello! How can I assist you today?\n",
      "You: May I know your name?\n",
      "Chatbot: I'm sorry, I didn't quite catch that. Can you please rephrase?\n",
      "You: What is your name?\n",
      "Chatbot: I'm your friendly Chatbot.\n",
      "You: Give movie recommendations\n",
      "Chatbot: For movie recommendations, I suggest trying out popular streaming platforms.\n",
      "You: Tell me a joke\n",
      "Chatbot: Why don't scientists trust atoms? Because they make up everything!\n",
      "You: Thank you\n",
      "Chatbot: You're welcome! If you need anything else, let me know.\n",
      "You: What coding challenges should I do?\n",
      "Chatbot: Challenge yourself with coding platforms like HackerRank or LeetCode for coding practice.\n",
      "You: How can I contact the support team?\n",
      "Chatbot: I'm sorry, I didn't quite catch that. Can you please rephrase?\n",
      "You: How can I contact support?\n",
      "Chatbot: For support, please visit our website or contact our helpline.\n",
      "You: What are the weather updates?\n",
      "Chatbot: I'm sorry, I don't have real-time weather information. You can check a weather website.\n",
      "You: okay bye \n",
      "Chatbot: Goodbye! If you have more questions, feel free to ask.\n",
      "You: ok\n",
      "Chatbot: I'm sorry, I didn't quite catch that. Can you please rephrase?\n"
     ]
    }
   ],
   "source": [
    "print(\"Chatbot: Hi there! I'm your friendly Chatbot. Feel free to ask me anything.\")\n",
    "while True:\n",
    "    user_input = input(\"You: \")\n",
    "    \n",
    "    # Allow the user to exit the conversation\n",
    "    if user_input.lower() == 'exit':\n",
    "        print(\"Chatbot: Goodbye! If you have more questions later, feel free to come back.\")\n",
    "        break\n",
    "    \n",
    "    # Get the chatbot's response based on user input\n",
    "    response = chatbot.get_response(user_input)\n",
    "    print(\"Chatbot:\", response)"
   ]
  }
 ],
 "metadata": {
  "kernelspec": {
   "display_name": "Python 3 (ipykernel)",
   "language": "python",
   "name": "python3"
  },
  "language_info": {
   "codemirror_mode": {
    "name": "ipython",
    "version": 3
   },
   "file_extension": ".py",
   "mimetype": "text/x-python",
   "name": "python",
   "nbconvert_exporter": "python",
   "pygments_lexer": "ipython3",
   "version": "3.9.12"
  }
 },
 "nbformat": 4,
 "nbformat_minor": 5
}
